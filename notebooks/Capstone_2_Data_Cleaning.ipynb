{
 "cells": [
  {
   "cell_type": "markdown",
   "metadata": {
    "colab": {
     "base_uri": "https://localhost:8080/",
     "height": 52
    },
    "id": "cMK0kw0myLFQ",
    "outputId": "41a4b414-ccff-4157-cd51-bba0cfcf6ed5"
   },
   "source": [
    "# Introduction\n",
    "In this notebook, we'll focus on data wrangling. Let's outline the steps and the goals of each step.\n",
    "\n",
    "|Step               |Goal                                                                   |\n",
    "|-------------------|-----------------------------------------------------------------------|\n",
    "|Data Collection    |Gather and join the data to streamline the next steps of the capstone  |\n",
    "|Data Organization: |Establish the file structure and version control                       |\n",
    "|Data Definition:   |Understand, annotate and clean the data in preparation for future work |\n",
    "|Data Cleaning:     |Check for missing data or wrong data, and handle them appropriately    |"
   ]
  },
  {
   "cell_type": "markdown",
   "metadata": {
    "id": "4SmcYZLty2z8"
   },
   "source": [
    "# Data Collection"
   ]
  },
  {
   "cell_type": "markdown",
   "metadata": {
    "id": "60Bl9Fvc9mho"
   },
   "source": [
    "## Data Loading\n",
    "\n",
    "We'll import the data from Kaggle. \n",
    "\n",
    "Kaggle requires users to sign in and generate an API Key. Make sure your API key is at the correct location before running the next cell. If necessary, also make sure that Kaggle has been installed before continuing."
   ]
  },
  {
   "cell_type": "code",
   "execution_count": 8,
   "metadata": {},
   "outputs": [
    {
     "name": "stdout",
     "output_type": "stream",
     "text": [
      "Downloading riiid-test-answer-prediction.zip to ..\\data\\raw\n",
      "\n"
     ]
    },
    {
     "name": "stderr",
     "output_type": "stream",
     "text": [
      "\n",
      "  0%|          | 0.00/1.29G [00:00<?, ?B/s]\n",
      "  0%|          | 1.00M/1.29G [00:00<09:49, 2.35MB/s]\n",
      "  0%|          | 3.00M/1.29G [00:00<03:26, 6.69MB/s]\n",
      "  1%|          | 7.00M/1.29G [00:00<01:29, 15.5MB/s]\n",
      "  1%|          | 11.0M/1.29G [00:00<01:03, 21.6MB/s]\n",
      "  1%|1         | 17.0M/1.29G [00:00<00:44, 30.9MB/s]\n",
      "  2%|1         | 21.0M/1.29G [00:01<01:03, 21.4MB/s]\n",
      "  2%|1         | 26.0M/1.29G [00:01<00:53, 25.5MB/s]\n",
      "  2%|2         | 30.0M/1.29G [00:01<00:48, 27.8MB/s]\n",
      "  3%|2         | 38.0M/1.29G [00:01<00:34, 38.8MB/s]\n",
      "  3%|3         | 43.0M/1.29G [00:01<00:42, 31.3MB/s]\n",
      "  4%|3         | 49.0M/1.29G [00:02<00:49, 26.9MB/s]\n",
      "  4%|4         | 55.0M/1.29G [00:02<00:54, 24.4MB/s]\n",
      "  5%|4         | 66.0M/1.29G [00:02<00:40, 32.6MB/s]\n",
      "  6%|5         | 76.0M/1.29G [00:02<00:29, 43.6MB/s]\n",
      "  6%|6         | 82.0M/1.29G [00:03<00:38, 33.9MB/s]\n",
      "  7%|6         | 89.0M/1.29G [00:03<00:34, 37.4MB/s]\n",
      "  7%|7         | 95.0M/1.29G [00:03<00:39, 32.6MB/s]\n",
      "  7%|7         | 99.0M/1.29G [00:03<00:38, 33.3MB/s]\n",
      "  8%|8         | 108M/1.29G [00:03<00:28, 43.9MB/s] \n",
      "  9%|8         | 114M/1.29G [00:04<00:41, 30.4MB/s]\n",
      "  9%|9         | 121M/1.29G [00:04<00:35, 35.9MB/s]\n",
      " 10%|9         | 127M/1.29G [00:04<00:31, 39.6MB/s]\n",
      " 10%|9         | 132M/1.29G [00:04<00:31, 39.7MB/s]\n",
      " 10%|#         | 137M/1.29G [00:04<00:30, 41.0MB/s]\n",
      " 11%|#         | 142M/1.29G [00:04<00:30, 40.7MB/s]\n",
      " 11%|#1        | 147M/1.29G [00:04<00:28, 42.8MB/s]\n",
      " 11%|#1        | 152M/1.29G [00:05<00:47, 25.9MB/s]\n",
      " 12%|#2        | 163M/1.29G [00:05<00:29, 40.9MB/s]\n",
      " 13%|#2        | 169M/1.29G [00:05<00:44, 27.0MB/s]\n",
      " 13%|#3        | 174M/1.29G [00:05<00:43, 27.8MB/s]\n",
      " 14%|#3        | 179M/1.29G [00:06<00:38, 31.1MB/s]\n",
      " 14%|#3        | 184M/1.29G [00:06<00:44, 26.8MB/s]\n",
      " 14%|#4        | 188M/1.29G [00:06<00:41, 29.0MB/s]\n",
      " 15%|#4        | 194M/1.29G [00:06<00:40, 29.0MB/s]\n",
      " 15%|#4        | 198M/1.29G [00:06<00:38, 30.5MB/s]\n",
      " 15%|#5        | 204M/1.29G [00:06<00:33, 35.4MB/s]\n",
      " 16%|#5        | 210M/1.29G [00:07<00:34, 33.8MB/s]\n",
      " 17%|#6        | 220M/1.29G [00:07<00:33, 34.7MB/s]\n",
      " 17%|#6        | 224M/1.29G [00:07<00:40, 28.4MB/s]\n",
      " 18%|#7        | 233M/1.29G [00:07<00:30, 37.3MB/s]\n",
      " 18%|#8        | 239M/1.29G [00:07<00:27, 40.7MB/s]\n",
      " 18%|#8        | 244M/1.29G [00:07<00:27, 41.7MB/s]\n",
      " 19%|#8        | 249M/1.29G [00:08<00:27, 40.7MB/s]\n",
      " 19%|#9        | 254M/1.29G [00:08<00:39, 28.5MB/s]\n",
      " 20%|#9        | 262M/1.29G [00:08<00:43, 25.8MB/s]\n",
      " 21%|##        | 277M/1.29G [00:09<00:28, 38.2MB/s]\n",
      " 21%|##1       | 283M/1.29G [00:09<00:34, 31.3MB/s]\n",
      " 22%|##1       | 288M/1.29G [00:09<00:37, 28.9MB/s]\n",
      " 22%|##2       | 296M/1.29G [00:09<00:34, 30.8MB/s]\n",
      " 23%|##2       | 303M/1.29G [00:09<00:29, 36.1MB/s]\n",
      " 23%|##3       | 308M/1.29G [00:10<00:37, 28.4MB/s]\n",
      " 24%|##3       | 317M/1.29G [00:10<00:28, 36.7MB/s]\n",
      " 24%|##4       | 322M/1.29G [00:10<00:48, 21.6MB/s]\n",
      " 25%|##4       | 328M/1.29G [00:11<00:43, 24.0MB/s]\n",
      " 25%|##5       | 332M/1.29G [00:11<00:40, 25.8MB/s]\n",
      " 25%|##5       | 336M/1.29G [00:11<00:40, 25.6MB/s]\n",
      " 26%|##5       | 340M/1.29G [00:11<00:40, 25.7MB/s]\n",
      " 26%|##5       | 343M/1.29G [00:11<00:40, 25.6MB/s]\n",
      " 26%|##6       | 346M/1.29G [00:11<00:39, 25.9MB/s]\n",
      " 26%|##6       | 349M/1.29G [00:11<00:39, 26.1MB/s]\n",
      " 27%|##6       | 352M/1.29G [00:12<00:39, 25.8MB/s]\n",
      " 27%|##6       | 355M/1.29G [00:12<00:39, 25.6MB/s]\n",
      " 27%|##7       | 358M/1.29G [00:12<00:37, 26.9MB/s]\n",
      " 27%|##7       | 361M/1.29G [00:12<00:38, 26.4MB/s]\n",
      " 28%|##7       | 364M/1.29G [00:12<00:39, 25.7MB/s]\n",
      " 28%|##7       | 367M/1.29G [00:12<00:37, 26.5MB/s]\n",
      " 28%|##7       | 370M/1.29G [00:12<00:39, 25.6MB/s]\n",
      " 28%|##8       | 373M/1.29G [00:12<00:38, 25.8MB/s]\n",
      " 28%|##8       | 376M/1.29G [00:13<00:37, 26.2MB/s]\n",
      " 29%|##8       | 379M/1.29G [00:13<00:37, 26.4MB/s]\n",
      " 29%|##8       | 382M/1.29G [00:13<00:38, 25.9MB/s]\n",
      " 29%|##9       | 385M/1.29G [00:13<00:37, 26.3MB/s]\n",
      " 29%|##9       | 388M/1.29G [00:13<00:38, 25.8MB/s]\n",
      " 30%|##9       | 391M/1.29G [00:13<00:37, 26.2MB/s]\n",
      " 30%|##9       | 394M/1.29G [00:13<00:37, 26.1MB/s]\n",
      " 30%|###       | 397M/1.29G [00:13<00:36, 26.8MB/s]\n",
      " 30%|###       | 400M/1.29G [00:14<00:37, 25.9MB/s]\n",
      " 30%|###       | 403M/1.29G [00:14<00:37, 25.8MB/s]\n",
      " 31%|###       | 406M/1.29G [00:14<00:36, 26.2MB/s]\n",
      " 31%|###       | 409M/1.29G [00:14<00:36, 26.3MB/s]\n",
      " 31%|###1      | 412M/1.29G [00:14<00:35, 26.7MB/s]\n",
      " 31%|###1      | 415M/1.29G [00:14<00:36, 26.3MB/s]\n",
      " 32%|###1      | 418M/1.29G [00:14<00:35, 26.9MB/s]\n",
      " 32%|###1      | 422M/1.29G [00:14<00:33, 27.8MB/s]\n",
      " 32%|###2      | 425M/1.29G [00:14<00:32, 28.8MB/s]\n",
      " 32%|###2      | 429M/1.29G [00:15<00:31, 30.2MB/s]\n",
      " 33%|###2      | 433M/1.29G [00:15<00:29, 31.8MB/s]\n",
      " 33%|###3      | 437M/1.29G [00:15<00:27, 34.2MB/s]\n",
      " 33%|###3      | 441M/1.29G [00:15<00:26, 34.6MB/s]\n",
      " 34%|###3      | 445M/1.29G [00:15<00:26, 35.3MB/s]\n",
      " 34%|###3      | 449M/1.29G [00:15<00:26, 34.7MB/s]\n",
      " 34%|###4      | 454M/1.29G [00:15<00:26, 34.5MB/s]\n",
      " 35%|###4      | 458M/1.29G [00:15<00:25, 36.1MB/s]\n",
      " 35%|###4      | 462M/1.29G [00:16<00:43, 20.9MB/s]\n",
      " 36%|###5      | 475M/1.29G [00:16<00:24, 36.7MB/s]\n",
      " 36%|###6      | 480M/1.29G [00:16<00:24, 36.4MB/s]\n",
      " 37%|###6      | 485M/1.29G [00:17<00:37, 23.1MB/s]\n",
      " 37%|###7      | 492M/1.29G [00:17<00:29, 29.8MB/s]\n",
      " 38%|###7      | 497M/1.29G [00:17<00:34, 25.4MB/s]\n",
      " 38%|###7      | 501M/1.29G [00:17<00:31, 27.3MB/s]\n",
      " 39%|###8      | 510M/1.29G [00:17<00:21, 38.7MB/s]\n",
      " 39%|###9      | 516M/1.29G [00:17<00:20, 40.7MB/s]\n",
      " 39%|###9      | 521M/1.29G [00:18<00:20, 40.3MB/s]\n",
      " 40%|###9      | 526M/1.29G [00:18<00:25, 33.1MB/s]\n",
      " 40%|####      | 530M/1.29G [00:18<00:27, 30.2MB/s]\n",
      " 40%|####      | 535M/1.29G [00:18<00:24, 33.1MB/s]\n",
      " 41%|####      | 540M/1.29G [00:18<00:22, 37.2MB/s]\n",
      " 41%|####1     | 544M/1.29G [00:18<00:21, 38.2MB/s]\n",
      " 42%|####1     | 549M/1.29G [00:18<00:19, 41.7MB/s]\n",
      " 42%|####1     | 554M/1.29G [00:18<00:18, 42.5MB/s]\n",
      " 42%|####2     | 559M/1.29G [00:19<00:31, 25.3MB/s]\n",
      " 43%|####2     | 563M/1.29G [00:19<00:29, 27.4MB/s]\n",
      " 43%|####2     | 567M/1.29G [00:19<00:27, 29.2MB/s]\n",
      " 43%|####3     | 571M/1.29G [00:19<00:37, 21.3MB/s]\n",
      " 43%|####3     | 575M/1.29G [00:20<00:43, 18.2MB/s]\n",
      " 44%|####4     | 585M/1.29G [00:20<00:25, 30.4MB/s]\n",
      " 45%|####4     | 590M/1.29G [00:20<00:23, 32.3MB/s]\n",
      " 45%|####4     | 595M/1.29G [00:20<00:22, 34.3MB/s]\n",
      " 45%|####5     | 600M/1.29G [00:20<00:20, 36.2MB/s]\n",
      " 46%|####5     | 605M/1.29G [00:21<00:31, 24.1MB/s]\n",
      " 46%|####6     | 611M/1.29G [00:21<00:26, 28.0MB/s]\n",
      " 47%|####6     | 615M/1.29G [00:21<00:34, 21.2MB/s]\n",
      " 48%|####7     | 629M/1.29G [00:21<00:18, 38.8MB/s]\n",
      " 48%|####8     | 635M/1.29G [00:21<00:18, 38.7MB/s]\n",
      " 48%|####8     | 640M/1.29G [00:22<00:27, 25.6MB/s]\n",
      " 49%|####8     | 644M/1.29G [00:22<00:27, 25.6MB/s]\n",
      " 49%|####9     | 648M/1.29G [00:22<00:26, 27.2MB/s]\n",
      " 49%|####9     | 652M/1.29G [00:23<00:34, 20.4MB/s]\n",
      " 50%|####9     | 656M/1.29G [00:23<00:33, 21.2MB/s]\n",
      " 50%|#####     | 667M/1.29G [00:23<00:19, 35.6MB/s]\n",
      " 51%|#####     | 672M/1.29G [00:23<00:22, 30.7MB/s]\n",
      " 51%|#####1    | 677M/1.29G [00:23<00:21, 30.9MB/s]\n",
      " 52%|#####1    | 681M/1.29G [00:24<00:33, 20.2MB/s]\n",
      " 52%|#####1    | 686M/1.29G [00:24<00:27, 24.1MB/s]\n",
      " 52%|#####2    | 690M/1.29G [00:24<00:26, 25.1MB/s]\n",
      " 52%|#####2    | 694M/1.29G [00:24<00:23, 28.0MB/s]\n",
      " 53%|#####2    | 698M/1.29G [00:24<00:34, 18.8MB/s]\n",
      " 53%|#####3    | 704M/1.29G [00:25<00:25, 25.0MB/s]\n",
      " 54%|#####3    | 713M/1.29G [00:25<00:18, 34.5MB/s]\n",
      " 54%|#####4    | 718M/1.29G [00:25<00:17, 35.3MB/s]\n",
      " 55%|#####4    | 723M/1.29G [00:25<00:29, 21.4MB/s]\n",
      " 55%|#####5    | 728M/1.29G [00:26<00:26, 23.6MB/s]\n",
      " 55%|#####5    | 732M/1.29G [00:26<00:24, 25.4MB/s]\n",
      " 56%|#####5    | 736M/1.29G [00:26<00:21, 28.0MB/s]\n",
      " 56%|#####6    | 741M/1.29G [00:26<00:20, 30.5MB/s]\n",
      " 56%|#####6    | 745M/1.29G [00:26<00:37, 16.3MB/s]\n",
      " 57%|#####6    | 749M/1.29G [00:27<00:31, 19.0MB/s]\n",
      " 57%|#####6    | 752M/1.29G [00:27<00:30, 19.4MB/s]\n",
      " 57%|#####7    | 756M/1.29G [00:27<00:27, 21.8MB/s]\n",
      " 57%|#####7    | 759M/1.29G [00:27<00:26, 22.2MB/s]\n",
      " 58%|#####7    | 762M/1.29G [00:27<00:26, 22.2MB/s]\n",
      " 58%|#####7    | 765M/1.29G [00:27<00:25, 22.8MB/s]\n",
      " 58%|#####8    | 768M/1.29G [00:27<00:25, 23.1MB/s]\n",
      " 58%|#####8    | 771M/1.29G [00:28<00:25, 23.0MB/s]\n",
      " 59%|#####8    | 774M/1.29G [00:28<00:24, 23.1MB/s]\n",
      " 59%|#####8    | 777M/1.29G [00:28<00:24, 23.3MB/s]\n",
      " 59%|#####8    | 780M/1.29G [00:28<00:23, 24.1MB/s]\n",
      " 59%|#####9    | 783M/1.29G [00:28<00:23, 23.9MB/s]\n",
      " 59%|#####9    | 786M/1.29G [00:28<00:24, 23.2MB/s]\n",
      " 60%|#####9    | 789M/1.29G [00:28<00:22, 24.3MB/s]\n",
      " 60%|#####9    | 792M/1.29G [00:28<00:23, 23.4MB/s]\n",
      " 60%|######    | 795M/1.29G [00:29<00:23, 24.0MB/s]\n",
      " 60%|######    | 798M/1.29G [00:29<00:23, 23.7MB/s]\n",
      " 61%|######    | 801M/1.29G [00:29<00:23, 23.4MB/s]\n",
      " 61%|######    | 804M/1.29G [00:29<00:23, 23.5MB/s]\n",
      " 61%|######1   | 807M/1.29G [00:29<00:22, 23.5MB/s]\n",
      " 61%|######1   | 810M/1.29G [00:29<00:22, 23.7MB/s]\n",
      " 61%|######1   | 813M/1.29G [00:29<00:22, 23.7MB/s]\n",
      " 62%|######1   | 816M/1.29G [00:30<00:22, 23.8MB/s]\n",
      " 62%|######1   | 819M/1.29G [00:30<00:22, 23.7MB/s]\n",
      " 62%|######2   | 822M/1.29G [00:30<00:21, 24.1MB/s]\n",
      " 62%|######2   | 825M/1.29G [00:30<00:20, 25.3MB/s]\n",
      " 63%|######2   | 828M/1.29G [00:30<00:20, 25.8MB/s]\n",
      " 63%|######2   | 831M/1.29G [00:30<00:19, 26.6MB/s]\n",
      " 63%|######3   | 834M/1.29G [00:30<00:18, 27.9MB/s]\n",
      " 63%|######3   | 838M/1.29G [00:30<00:17, 29.7MB/s]\n",
      " 64%|######3   | 842M/1.29G [00:30<00:15, 31.9MB/s]\n",
      " 64%|######3   | 846M/1.29G [00:31<00:15, 32.1MB/s]\n",
      " 64%|######4   | 850M/1.29G [00:31<00:14, 34.4MB/s]\n",
      " 65%|######4   | 854M/1.29G [00:31<00:13, 36.2MB/s]\n",
      " 65%|######4   | 858M/1.29G [00:31<00:13, 37.2MB/s]\n",
      " 65%|######5   | 862M/1.29G [00:31<00:12, 38.3MB/s]\n",
      " 66%|######5   | 867M/1.29G [00:31<00:11, 40.0MB/s]\n",
      " 66%|######5   | 871M/1.29G [00:31<00:11, 40.2MB/s]\n",
      " 66%|######6   | 875M/1.29G [00:31<00:11, 40.1MB/s]\n",
      " 66%|######6   | 879M/1.29G [00:32<00:24, 19.3MB/s]\n",
      " 67%|######6   | 883M/1.29G [00:32<00:20, 22.6MB/s]\n",
      " 67%|######7   | 887M/1.29G [00:32<00:19, 23.8MB/s]\n",
      " 68%|######7   | 893M/1.29G [00:32<00:15, 29.9MB/s]\n",
      " 68%|######7   | 898M/1.29G [00:32<00:13, 33.7MB/s]\n",
      " 68%|######8   | 903M/1.29G [00:32<00:11, 37.9MB/s]\n",
      " 69%|######8   | 908M/1.29G [00:33<00:10, 40.0MB/s]\n",
      " 69%|######9   | 913M/1.29G [00:33<00:18, 22.9MB/s]\n",
      " 70%|######9   | 921M/1.29G [00:33<00:12, 32.7MB/s]\n",
      " 70%|#######   | 926M/1.29G [00:33<00:11, 36.0MB/s]\n",
      " 70%|#######   | 931M/1.29G [00:34<00:16, 25.1MB/s]\n",
      " 71%|#######1  | 939M/1.29G [00:34<00:12, 33.1MB/s]\n",
      " 71%|#######1  | 944M/1.29G [00:34<00:11, 34.0MB/s]\n",
      " 72%|#######1  | 949M/1.29G [00:34<00:18, 21.5MB/s]\n",
      " 72%|#######2  | 955M/1.29G [00:34<00:14, 25.9MB/s]\n",
      " 73%|#######2  | 959M/1.29G [00:35<00:13, 27.5MB/s]\n",
      " 73%|#######2  | 964M/1.29G [00:35<00:21, 17.9MB/s]\n",
      " 73%|#######3  | 971M/1.29G [00:35<00:15, 24.0MB/s]\n",
      " 74%|#######3  | 976M/1.29G [00:35<00:13, 27.4MB/s]\n",
      " 74%|#######4  | 981M/1.29G [00:35<00:11, 31.1MB/s]\n",
      " 75%|#######4  | 986M/1.29G [00:36<00:14, 23.5MB/s]\n",
      " 75%|#######5  | 993M/1.29G [00:36<00:16, 20.6MB/s]\n",
      " 76%|#######6  | 0.99G/1.29G [00:36<00:08, 40.8MB/s]\n",
      " 77%|#######6  | 0.99G/1.29G [00:37<00:07, 43.1MB/s]\n",
      " 77%|#######7  | 1.00G/1.29G [00:37<00:06, 44.9MB/s]\n",
      " 78%|#######7  | 1.01G/1.29G [00:37<00:06, 45.6MB/s]\n",
      " 78%|#######8  | 1.01G/1.29G [00:37<00:10, 29.0MB/s]\n",
      " 79%|#######8  | 1.02G/1.29G [00:37<00:09, 31.5MB/s]\n",
      " 79%|#######9  | 1.02G/1.29G [00:37<00:07, 36.5MB/s]\n",
      " 80%|#######9  | 1.03G/1.29G [00:38<00:06, 40.4MB/s]\n",
      " 80%|########  | 1.03G/1.29G [00:38<00:06, 43.6MB/s]\n",
      " 80%|########  | 1.04G/1.29G [00:38<00:12, 20.9MB/s]\n",
      " 81%|########  | 1.05G/1.29G [00:38<00:09, 27.6MB/s]\n",
      " 81%|########1 | 1.05G/1.29G [00:39<00:09, 27.7MB/s]\n",
      " 82%|########1 | 1.06G/1.29G [00:39<00:08, 30.3MB/s]\n",
      " 82%|########2 | 1.06G/1.29G [00:39<00:10, 23.1MB/s]\n",
      " 82%|########2 | 1.06G/1.29G [00:39<00:09, 25.6MB/s]\n",
      " 83%|########2 | 1.07G/1.29G [00:40<00:12, 19.2MB/s]\n",
      " 83%|########3 | 1.07G/1.29G [00:40<00:09, 25.2MB/s]\n",
      " 83%|########3 | 1.08G/1.29G [00:40<00:07, 29.2MB/s]\n",
      " 84%|########3 | 1.08G/1.29G [00:40<00:06, 32.7MB/s]\n",
      " 84%|########4 | 1.09G/1.29G [00:40<00:05, 37.6MB/s]\n",
      " 85%|########4 | 1.09G/1.29G [00:40<00:05, 41.8MB/s]\n",
      " 85%|########5 | 1.10G/1.29G [00:41<00:08, 24.3MB/s]\n",
      " 86%|########6 | 1.11G/1.29G [00:41<00:04, 39.1MB/s]\n",
      " 87%|########6 | 1.12G/1.29G [00:41<00:07, 23.5MB/s]\n",
      " 88%|########7 | 1.13G/1.29G [00:41<00:04, 36.1MB/s]\n",
      " 88%|########8 | 1.14G/1.29G [00:42<00:04, 39.2MB/s]\n",
      " 88%|########8 | 1.14G/1.29G [00:42<00:03, 40.6MB/s]\n",
      " 89%|########8 | 1.15G/1.29G [00:42<00:04, 32.5MB/s]\n",
      " 89%|########9 | 1.16G/1.29G [00:42<00:05, 24.5MB/s]\n",
      " 91%|######### | 1.17G/1.29G [00:43<00:02, 43.5MB/s]\n",
      " 91%|#########1| 1.18G/1.29G [00:43<00:04, 25.0MB/s]\n",
      " 92%|#########1| 1.19G/1.29G [00:43<00:03, 28.4MB/s]\n",
      " 92%|#########2| 1.19G/1.29G [00:44<00:03, 29.9MB/s]\n",
      " 93%|#########2| 1.20G/1.29G [00:44<00:03, 32.0MB/s]\n",
      " 93%|#########3| 1.20G/1.29G [00:44<00:02, 35.0MB/s]\n",
      " 93%|#########3| 1.21G/1.29G [00:44<00:02, 38.0MB/s]\n",
      " 94%|#########3| 1.21G/1.29G [00:44<00:03, 23.2MB/s]\n",
      " 95%|#########4| 1.22G/1.29G [00:44<00:01, 37.4MB/s]\n",
      " 95%|#########5| 1.23G/1.29G [00:45<00:01, 48.4MB/s]\n",
      " 96%|#########5| 1.24G/1.29G [00:45<00:01, 50.3MB/s]\n",
      " 97%|#########6| 1.25G/1.29G [00:45<00:00, 52.1MB/s]\n",
      " 97%|#########7| 1.25G/1.29G [00:45<00:00, 52.3MB/s]\n",
      " 97%|#########7| 1.26G/1.29G [00:45<00:00, 52.8MB/s]\n",
      " 98%|#########7| 1.26G/1.29G [00:45<00:00, 34.4MB/s]\n",
      " 98%|#########8| 1.27G/1.29G [00:46<00:00, 36.9MB/s]\n",
      " 99%|#########8| 1.27G/1.29G [00:46<00:00, 39.7MB/s]\n",
      " 99%|#########9| 1.28G/1.29G [00:46<00:00, 43.2MB/s]\n",
      "100%|#########9| 1.29G/1.29G [00:46<00:00, 34.6MB/s]\n",
      "100%|#########9| 1.29G/1.29G [00:46<00:00, 37.9MB/s]\n",
      "100%|##########| 1.29G/1.29G [00:46<00:00, 29.6MB/s]\n"
     ]
    }
   ],
   "source": [
    "# Download the zipped data using the Kaggle API \n",
    "!kaggle competitions download -c riiid-test-answer-prediction -p \"..\\data\\raw\""
   ]
  },
  {
   "cell_type": "code",
   "execution_count": 39,
   "metadata": {},
   "outputs": [],
   "source": [
    "#Unzip the downloaded file\n",
    "from zipfile import ZipFile\n",
    "from pathlib import Path\n",
    "\n",
    "zipped_data_path = Path('../data/raw/riiid-test-answer-prediction.zip')\n",
    "unzip_destination_folder_path = Path('../data/interim')\n",
    "\n",
    "with ZipFile(zipped_data_path, 'r') as zf:\n",
    "    # Save list of file names in zip file to a list\n",
    "    zf_names = zf.namelist()\n",
    "    # Extract all files\n",
    "    zf.extractall(unzip_destination_folder_path)"
   ]
  },
  {
   "cell_type": "code",
   "execution_count": 50,
   "metadata": {},
   "outputs": [
    {
     "data": {
      "text/plain": [
       "['example_sample_submission.csv',\n",
       " 'example_test.csv',\n",
       " 'lectures.csv',\n",
       " 'questions.csv',\n",
       " 'riiideducation/__init__.py',\n",
       " 'riiideducation/competition.cpython-37m-x86_64-linux-gnu.so',\n",
       " 'train.csv']"
      ]
     },
     "execution_count": 50,
     "metadata": {},
     "output_type": "execute_result"
    }
   ],
   "source": [
    "#Check the names of the unzipped files for the file names containing our data.\n",
    "zf_names"
   ]
  },
  {
   "cell_type": "markdown",
   "metadata": {},
   "source": [
    "The data_csv_files are  `lectures.csv`,  `questions.csv`, `train.csv` ."
   ]
  },
  {
   "cell_type": "code",
   "execution_count": 64,
   "metadata": {
    "id": "Mg3QVJ5x0KxU"
   },
   "outputs": [],
   "source": [
    "import pandas as pd\n",
    "\n",
    "#Define data paths\n",
    "lectures_csv_path = Path('../data/interim/lectures.csv')\n",
    "questions_csv_path = Path('../data/interim/questions.csv')\n",
    "train_csv_path = Path('../data/interim/train.csv')\n",
    "\n",
    "# For these small csv files, import them directly with pandas.read_csv()\n",
    "df_lectures = pd.read_csv(lectures_csv_path)\n",
    "df_questions = pd.read_csv(questions_csv_path)"
   ]
  },
  {
   "cell_type": "markdown",
   "metadata": {},
   "source": [
    "`train.csv` is a large csv file, over 7 GB and 100M rows, so we need to load it in chunks."
   ]
  },
  {
   "cell_type": "code",
   "execution_count": null,
   "metadata": {},
   "outputs": [],
   "source": [
    "# Make DataFrame generator from CSV in chunks\n",
    "df_generator = pd.read_csv(train_csv_path, chunksize=10000000)\n",
    "\n",
    "#Initialize an empty DataFrame: df_train\n",
    "df_train = pd.DataFrame()\n",
    "\n",
    "# Iterate over each DataFrame chunk\n",
    "for df_chunk in df_generator:\n",
    "    df_train = df.append(df_chunk)\n"
   ]
  },
  {
   "cell_type": "markdown",
   "metadata": {},
   "source": [
    "After importing as a dataframe, save the dataframe as a binary file, so that we can quickly reload the dataframe and resume.\n"
   ]
  },
  {
   "cell_type": "code",
   "execution_count": null,
   "metadata": {
    "id": "BVwjKHLt8-o1"
   },
   "outputs": [],
   "source": [
    "# Define paths\n",
    "lectures_pkl_path = Path('../data/interim/lectures.pkl.gzip')\n",
    "questions_pkl_path = Path('../data/interim/questions.pkl.gzip')\n",
    "train_pkl_path = Path('../data/interim/train.pkl.gzip')\n",
    "\n",
    "# Save DataFrames to as pkl\n",
    "df_lectures.to_pickle(lectures_pkl_path)\n",
    "df_questions.to_pickle(questions_pkl_path)\n",
    "df_train.to_pickle(train_pkl_path)"
   ]
  },
  {
   "cell_type": "markdown",
   "metadata": {},
   "source": [
    "## Resuming data analysis without reimporting data\n",
    "After the binary files have been saved, we can quickly resume by loading the binary files rather tha downloading, unzipping, and reading the csv files in chunks, again."
   ]
  },
  {
   "cell_type": "code",
   "execution_count": null,
   "metadata": {},
   "outputs": [],
   "source": [
    "import pickle\n",
    "import pandas as pd\n",
    "\n",
    "# Define paths\n",
    "lectures_pkl_path = Path('../data/interim/lectures.pkl.gzip')\n",
    "questions_pkl_path = Path('../data/interim/questions.pkl.gzip')\n",
    "train_pkl_path = Path('../data/interim/train.pkl.gzip')\n",
    "\n",
    "with open(lectures_pkl_path, 'rb') as f:\n",
    "    df_lectures = pickle.load(f)\n",
    "    \n",
    "with open(questions_pkl_path, 'rb') as f:\n",
    "    df_questions = pickle.load(f)\n",
    "    \n",
    "with open(train_pkl_path, 'rb') as f:\n",
    "    df_train = pickle.load(f)"
   ]
  },
  {
   "cell_type": "markdown",
   "metadata": {
    "id": "et-SnDv39rpq"
   },
   "source": [
    "## Data Joining\n",
    "\n",
    "The data is available as one large file. So their is no need to join the data other than joining the chunks of the large file while importing it."
   ]
  },
  {
   "cell_type": "markdown",
   "metadata": {},
   "source": [
    "## Data Subsetting with the larger dataframes\n",
    "As the data is quite large, it might be useful to subset the data during exploratory data analysis to speed up the process."
   ]
  },
  {
   "cell_type": "code",
   "execution_count": null,
   "metadata": {},
   "outputs": [],
   "source": [
    "#Define the row skip logic\n",
    "\n",
    "#Skip rows from based on condition like skip every 10th line\n",
    "def skip_all_but_nth_rows(n, idx):\n",
    "  return (idx % n != 0)\n",
    "  \n",
    "#Skip random lines  \n",
    "import random\n",
    "def rand_1_in_n(n, idx):\n",
    "  return True if random.randrange(1,n)==1 else False\n",
    "\n",
    "\n",
    "#Create the subsets \n",
    "\n",
    "#Define a Dataframe with 1/10 of the data\n",
    "df_train_1_10 = df_train[df_train.index % 10 == 0]\n",
    "\n",
    "#Define a DataFrame with 1/100 of the data\n",
    "df_train_1_100 = df_train[df_train.index % 100 == 0]\n",
    "\n",
    "#Define a DataFrame with 1/1000 of the data\n",
    "df_train_1_1000 = df_train[df_train.index % 1000 == 0]\n",
    "\n",
    "#Define a Dataframe with 1/10000 of the data\n",
    "df_train_1_10000 = df_train[df_train.index % 10000 == 0]\n",
    "\n",
    "#Define a Dataframe with 1/100000 of the data\n",
    "df_train_1_100000 = df_train[df_train.index % 100000 == 0]\n",
    "\n",
    "#Define a Dataframe with 1/1000000 of the data\n",
    "df_train_1_1000000 = df_train[df_train.index % 1000000 == 0]\n",
    "\n",
    "#Define a Dataframe with 1/10000000 of the data\n",
    "df_train_1_10000000 = df_train[df_train.index % 10000000 == 0]\n",
    "\n",
    "\n",
    "#Define subset paths\n",
    "train_pkl_path_1_10 = Path('../data/interim/train_1_10.pkl.gzip')\n",
    "train_pkl_path_1_100 = Path('../data/interim/train_1_100.pkl.gzip')\n",
    "train_pkl_path_1_1000 = Path('../data/interim/train_1_1000.pkl.gzip')\n",
    "train_pkl_path_1_10000 = Path('../data/interim/train_1_10000.pkl.gzip')\n",
    "train_pkl_path_1_100000 = Path('../data/interim/train_1_100000.pkl.gzip')\n",
    "train_pkl_path_1_1000000 = Path('../data/interim/train_1_1000000.pkl.gzip')\n",
    "train_pkl_path_1_10000000 = Path('../data/interim/train_1_10000000.pkl.gzip')\n",
    "\n",
    "#Save subset dataframes to pkl\n",
    "df_train_1_1.to_pickle(train_pkl_path_1_1)\n",
    "df_train_1_10.to_pickle(train_pkl_path_1_10)\n",
    "df_train_1_100.to_pickle(train_pkl_path_1_100)\n",
    "df_train_1_1000.to_pickle(train_pkl_path_1_1000)\n",
    "df_train_1_10000.to_pickle(train_pkl_path_1_10000)\n",
    "df_train_1_100000.to_pickle(train_pkl_path_1_100000)\n",
    "df_train_1_1000000.to_pickle(train_pkl_path_1_1000000)\n",
    "df_train_1_10000000.to_pickle(train_pkl_path_1_10000000)"
   ]
  },
  {
   "cell_type": "markdown",
   "metadata": {
    "id": "AGc2jua1y44z"
   },
   "source": [
    "# Data Organization"
   ]
  },
  {
   "cell_type": "markdown",
   "metadata": {
    "id": "2TdU2Vg0y7ek"
   },
   "source": [
    "## File Structure\n",
    "\n",
    "We'll use the default [file structure template for data science from cookiecutter data science](https://medium.com/@rrfd/cookiecutter-data-science-organize-your-projects-atom-and-jupyter-2be7862f487e).\n",
    "\n",
    "The data files have already been imported according to this template."
   ]
  },
  {
   "cell_type": "markdown",
   "metadata": {
    "id": "9FxQEMlbTb9p"
   },
   "source": [
    "\n",
    "\n",
    "\n",
    "|             |                  |\n",
    "|-------------|------------------|\n",
    "|├── README.md|          <- Front page of the project. Let everyone |\n",
    "|│|                         know the major points.|\n",
    "|│|\n",
    "|├── models|             <- Trained and serialized models, model|\n",
    "|│|                         predictions, or model summaries.|\n",
    "|│|\n",
    "|├── notebooks|          <- Jupyter notebooks. Use set naming|\n",
    "|│|                         E.g. `1.2-rd-data-exploration`.|\n",
    "|│|\n",
    "|├── reports|            <- HTML, PDF, and LaTeX.|\n",
    "|│   └── figures|        <- Generated figures.|\n",
    "|│|\n",
    "|├── requirements.txt|   <- File for reproducing the environment|\n",
    "|│|                         `$ pip freeze > requirements.txt`|\n",
    "|├── data|\n",
    "|│   ├── external|       <- Third party sources.|\n",
    "|│   ├── interim|        <- In-progress intermediate data.|\n",
    "|│   ├── processed|      <- The final data sets for modelling.|\n",
    "|│   └── raw|            <- The original, immutable data.|\n",
    "|│|\n",
    "|└── src |               <- Source code for use in this project.|\n",
    "|    ├── __init__.py|    <- Makes src a Python module. |\n",
    "|    │|\n",
    "|    ├── custom_func.py| <- Various custom functions to import.|\n",
    "|    │|\n",
    "|    ├── data          | <- Scripts to download or generate data.|\n",
    "|    │   └── make_dataset.py|\n",
    "|    │|\n",
    "|    ├── features|       <- Scripts raw data into features for|\n",
    "|    │   │        |         modeling.|\n",
    "|    │   └── build_features.py|\n",
    "|    │|\n",
    "|    ├── models|         <- Scripts to train models and then use|\n",
    "|    │   │     |            trained models to make predictions.|\n",
    "|    │   │     |            \n",
    "|    │   ├── predict_model.py|\n",
    "|    │   └── train_model.py|\n",
    "|    │|\n",
    "|    └── viz|            <- Scripts to create visualizations.|            \n",
    "|        └── viz.py|"
   ]
  },
  {
   "cell_type": "markdown",
   "metadata": {},
   "source": [
    "## Version Control\n",
    "\n",
    "This notebook and it's related files will be stored in a local repository and on Github at:\n",
    "https://github.com/allen44/capstone-2"
   ]
  },
  {
   "cell_type": "markdown",
   "metadata": {},
   "source": [
    "## Environmental variables\n",
    "Following the best practices outlined in the [Twelve Factor App](https://12factor.net/), environmental variables will be excluded from version control.\n",
    "\n",
    "FOr this notebook, that means that any user wishing to reproduce the data loading steps will need their own Kaggle API key."
   ]
  },
  {
   "cell_type": "markdown",
   "metadata": {
    "id": "4kSKgl3FzAIu"
   },
   "source": [
    "# Data Definition\n",
    "\n",
    "Kaggle lists the definitions of the data on the [competition webpage](https://www.kaggle.com/c/riiid-test-answer-prediction/data).\n",
    "\n",
    "Here's a excerpt of the relevant section:\n",
    "\n",
    "\n",
    "### lectures.csv: metadata for the lectures watched by users as they progress in their education.\n",
    ">`lecture_id`: foreign key for the train/test content_id column, when the content type is lecture (1).\n",
    "\n",
    ">`part`: top level category code for the lecture.\n",
    "\n",
    ">`tag`: one tag codes for the lecture. The meaning of the tags will not be provided, but these codes are sufficient for clustering the lectures together.\n",
    "\n",
    ">`type_of`: brief description of the core purpose of the lecture\n",
    "\n",
    "### questions.csv: metadata for the questions posed to users.\n",
    ">`question_id`: foreign key for the train/test content_id column, when the content type is question (0).\n",
    "\n",
    ">`bundle_id`: code for which questions are served together.\n",
    "\n",
    ">`correct_answer`: the answer to the question. Can be compared with the train user_answer column to check if the user was right.\n",
    "\n",
    ">`part`: the relevant section of the TOEIC test.\n",
    "\n",
    ">`tags`: one or more detailed tag codes for the question. The meaning of the tags will not be provided, but these codes are sufficient for clustering the questions together.\n",
    "\n",
    "### train.csv \n",
    ">`content_id`: (int16) ID code for the user interaction\n",
    "\n",
    ">`content_type_id`: (int8) 0 if the event was a question being posed to the user, 1 if the event was the user watching a lecture.\n",
    "\n",
    ">`task_container_id`: (int16) Id code for the batch of questions or lectures. For example, a user might see three questions in a row before seeing the explanations for any of them. Those three would all share a task_container_id.\n",
    "\n",
    ">`user_answer`: (int8) the user's answer to the question, if any. Read -1 as null, for lectures.\n",
    "\n",
    ">`answered_correctly`: (int8) if the user responded correctly. Read -1 as null, for lectures.\n",
    "\n",
    ">`prior_question_elapsed_time`: (float32) The average time in milliseconds it took a user to answer each question in the previous question bundle, ignoring any lectures in between. Is null for a user's first question bundle or lecture. Note that the time is the average time a user took to solve each question in the previous bundle.\n",
    "\n",
    ">`prior_question_had_explanation`: (bool) Whether or not the user saw an explanation and the correct response(s) after answering the previous question bundle, ignoring any lectures in between. The value is shared across a single question bundle, and is null for a user's first question bundle or lecture. Typically the first several questions a user sees were part of an onboarding diagnostic test where they did not get any feedback.\n"
   ]
  },
  {
   "cell_type": "markdown",
   "metadata": {
    "id": "QtXv1bctzDw8"
   },
   "source": [
    "# Data Cleaning\n"
   ]
  },
  {
   "cell_type": "markdown",
   "metadata": {},
   "source": [
    "### Pandas Profiling\n",
    "The Pandas Profiling module is a quick way to get an overview of the data sets."
   ]
  },
  {
   "cell_type": "code",
   "execution_count": null,
   "metadata": {},
   "outputs": [],
   "source": [
    "# Install updated pandas profiling\n",
    "\n",
    "%load_ext autoreload\n",
    "%autoreload 2\n",
    "\n",
    "import sys\n",
    "!{sys.executable} -m pip install https://github.com/pandas-profiling/pandas-profiling/archive/master.zip\n",
    "!jupyter nbextension enable --py widgetsnbextension\n",
    "\n",
    "%autoreload 0"
   ]
  },
  {
   "cell_type": "markdown",
   "metadata": {},
   "source": [
    "## Check for missing data"
   ]
  },
  {
   "cell_type": "code",
   "execution_count": null,
   "metadata": {},
   "outputs": [],
   "source": []
  },
  {
   "cell_type": "markdown",
   "metadata": {
    "id": "VAYmg1WtyVNx"
   },
   "source": [
    "Based on the excerpt above, we have enough info to set the dtypes on the DataFrames, and label missing or null data."
   ]
  },
  {
   "cell_type": "markdown",
   "metadata": {},
   "source": [
    "## Set the dtypes"
   ]
  },
  {
   "cell_type": "code",
   "execution_count": 60,
   "metadata": {},
   "outputs": [],
   "source": [
    "lectures_dtypes = {'lecture_id': 'category',\n",
    "                    'part': 'category',\n",
    "                    'tag': 'category',\n",
    "                    'type_of': 'string'}\n",
    "            \n",
    "questions_dtypes = {'question_id': 'category', \n",
    "                   'bundle_id': 'category',\n",
    "                   'correct_answer': 'category', \n",
    "                   'part': 'category',\n",
    "                   'tags': 'string'}\n",
    "            \n",
    "train_dtypes = {'content_id': 'category', \n",
    "                'content_type_id': 'category',\n",
    "                'task_container_id': 'category', \n",
    "                'user_answer': 'category',\n",
    "                'answered_correctly': 'boolean',\n",
    "                'prior_question_elapsed_time': 'float',\n",
    "                'prior_question_had_explanation': 'boolean'}\n"
   ]
  },
  {
   "cell_type": "code",
   "execution_count": null,
   "metadata": {},
   "outputs": [],
   "source": []
  }
 ],
 "metadata": {
  "colab": {
   "machine_shape": "hm",
   "name": "Capstone 2 - Data Cleaning.ipynb",
   "provenance": []
  },
  "kernelspec": {
   "display_name": "Python 3",
   "language": "python",
   "name": "python3"
  },
  "language_info": {
   "codemirror_mode": {
    "name": "ipython",
    "version": 3
   },
   "file_extension": ".py",
   "mimetype": "text/x-python",
   "name": "python",
   "nbconvert_exporter": "python",
   "pygments_lexer": "ipython3",
   "version": "3.7.7"
  }
 },
 "nbformat": 4,
 "nbformat_minor": 1
}
